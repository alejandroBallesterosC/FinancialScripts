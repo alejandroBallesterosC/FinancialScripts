{
 "cells": [
  {
   "cell_type": "markdown",
   "metadata": {},
   "source": [
    "# A. Import Dependencies"
   ]
  },
  {
   "cell_type": "code",
   "execution_count": 1,
   "metadata": {},
   "outputs": [],
   "source": [
    "import pandas as pd\n",
    "import sklearn as sk\n",
    "import numpy as np\n",
    "import time\n",
    "import datetime as dt\n",
    "import requests\n",
    "from operator import add\n",
    "import matplotlib.pyplot as plt\n",
    "from pandas.tseries.holiday import AbstractHolidayCalendar, Holiday, nearest_workday, \\\n",
    "    USMartinLutherKingJr, USPresidentsDay, GoodFriday, USMemorialDay, \\\n",
    "    USLaborDay, USThanksgivingDay\n",
    "from polygon import RESTClient"
   ]
  },
  {
   "cell_type": "markdown",
   "metadata": {},
   "source": [
    "# B. Obtain Data"
   ]
  },
  {
   "cell_type": "markdown",
   "metadata": {},
   "source": [
    "## I. Check the Close/Open Price Data Format"
   ]
  },
  {
   "cell_type": "code",
   "execution_count": 2,
   "metadata": {},
   "outputs": [
    {
     "data": {
      "text/plain": [
       "{'status': 'OK',\n",
       " 'from_': '2020-03-12',\n",
       " 'symbol': 'SKYY',\n",
       " 'open': 48.84,\n",
       " 'high': 51.08,\n",
       " 'low': 47.81,\n",
       " 'close': 48.01,\n",
       " 'volume': 1392154,\n",
       " 'after_hours': 51.66,\n",
       " 'preMarket': 49.04}"
      ]
     },
     "execution_count": 2,
     "metadata": {},
     "output_type": "execute_result"
    }
   ],
   "source": [
    "key = ''#insert API Key Here\n",
    "client = RESTClient(key)\n",
    "resp = client.stocks_equities_daily_open_close(\"SKYY\", \"2020-03-12\")\n",
    "resp.__dict__"
   ]
  },
  {
   "cell_type": "markdown",
   "metadata": {},
   "source": [
    "## II. Set End Date and Number of Days Back to Obtain Data"
   ]
  },
  {
   "cell_type": "code",
   "execution_count": 3,
   "metadata": {},
   "outputs": [],
   "source": [
    "security = 'TQQQ'#ticker\n",
    "end_date = dt.date(2020, 6, 18)\n",
    "num_days_back = 900#should be atleast 101 days (to have atleast 100 samples of a 2-day holding period),\n",
    "#if you want to look at 3-day holding periods, you will need atleast 102 days, etc."
   ]
  },
  {
   "cell_type": "markdown",
   "metadata": {},
   "source": [
    "## III. Create a DF of Days to Check Close Prices"
   ]
  },
  {
   "cell_type": "code",
   "execution_count": 4,
   "metadata": {},
   "outputs": [
    {
     "data": {
      "text/html": [
       "<div>\n",
       "<style scoped>\n",
       "    .dataframe tbody tr th:only-of-type {\n",
       "        vertical-align: middle;\n",
       "    }\n",
       "\n",
       "    .dataframe tbody tr th {\n",
       "        vertical-align: top;\n",
       "    }\n",
       "\n",
       "    .dataframe thead th {\n",
       "        text-align: right;\n",
       "    }\n",
       "</style>\n",
       "<table border=\"1\" class=\"dataframe\">\n",
       "  <thead>\n",
       "    <tr style=\"text-align: right;\">\n",
       "      <th></th>\n",
       "    </tr>\n",
       "  </thead>\n",
       "  <tbody>\n",
       "    <tr>\n",
       "      <th>2017-01-06</th>\n",
       "    </tr>\n",
       "    <tr>\n",
       "      <th>2017-01-09</th>\n",
       "    </tr>\n",
       "    <tr>\n",
       "      <th>2017-01-10</th>\n",
       "    </tr>\n",
       "    <tr>\n",
       "      <th>2017-01-11</th>\n",
       "    </tr>\n",
       "    <tr>\n",
       "      <th>2017-01-12</th>\n",
       "    </tr>\n",
       "  </tbody>\n",
       "</table>\n",
       "</div>"
      ],
      "text/plain": [
       "Empty DataFrame\n",
       "Columns: []\n",
       "Index: [2017-01-06 00:00:00, 2017-01-09 00:00:00, 2017-01-10 00:00:00, 2017-01-11 00:00:00, 2017-01-12 00:00:00]"
      ]
     },
     "execution_count": 4,
     "metadata": {},
     "output_type": "execute_result"
    }
   ],
   "source": [
    "start_date = end_date-dt.timedelta(days=num_days_back)\n",
    "trading_years = np.linspace(start_date.year, end_date.year, end_date.year-start_date.year + 1).astype(int)\n",
    "datelist = pd.bdate_range(end=end_date, periods=num_days_back)\n",
    "df = pd.DataFrame(index=datelist)\n",
    "df.head()"
   ]
  },
  {
   "cell_type": "markdown",
   "metadata": {},
   "source": [
    "## IV. Class/Function to create DF w Indices of Trading Holidays for removal From Main DF\n",
    "### (So we don't make calls to the API for data from these days since it would raise an error)"
   ]
  },
  {
   "cell_type": "code",
   "execution_count": 5,
   "metadata": {},
   "outputs": [],
   "source": [
    "class USTradingCalendar(AbstractHolidayCalendar):\n",
    "    rules = [\n",
    "        Holiday('NewYearsDay', month=1, day=1, observance=nearest_workday),\n",
    "        USMartinLutherKingJr,\n",
    "        USPresidentsDay,\n",
    "        GoodFriday,\n",
    "        USMemorialDay,\n",
    "        Holiday('USIndependenceDay', month=7, day=4, observance=nearest_workday),\n",
    "        USLaborDay,\n",
    "        USThanksgivingDay,\n",
    "        Holiday('Christmas', month=12, day=25, observance=nearest_workday)\n",
    "    ]\n",
    "\n",
    "def get_trading_close_holidays(year):\n",
    "    inst = USTradingCalendar()\n",
    "    return inst.holidays(dt.datetime(year-1, 12, 31), dt.datetime(year, 12, 31))"
   ]
  },
  {
   "cell_type": "markdown",
   "metadata": {},
   "source": [
    "## V. Remove the Trading Holidays From the Main DF We'll Use to Make Calls to the API"
   ]
  },
  {
   "cell_type": "code",
   "execution_count": 6,
   "metadata": {},
   "outputs": [
    {
     "data": {
      "text/html": [
       "<div>\n",
       "<style scoped>\n",
       "    .dataframe tbody tr th:only-of-type {\n",
       "        vertical-align: middle;\n",
       "    }\n",
       "\n",
       "    .dataframe tbody tr th {\n",
       "        vertical-align: top;\n",
       "    }\n",
       "\n",
       "    .dataframe thead th {\n",
       "        text-align: right;\n",
       "    }\n",
       "</style>\n",
       "<table border=\"1\" class=\"dataframe\">\n",
       "  <thead>\n",
       "    <tr style=\"text-align: right;\">\n",
       "      <th></th>\n",
       "    </tr>\n",
       "  </thead>\n",
       "  <tbody>\n",
       "    <tr>\n",
       "      <th>2017-01-06</th>\n",
       "    </tr>\n",
       "    <tr>\n",
       "      <th>2017-01-09</th>\n",
       "    </tr>\n",
       "    <tr>\n",
       "      <th>2017-01-10</th>\n",
       "    </tr>\n",
       "    <tr>\n",
       "      <th>2017-01-11</th>\n",
       "    </tr>\n",
       "    <tr>\n",
       "      <th>2017-01-12</th>\n",
       "    </tr>\n",
       "  </tbody>\n",
       "</table>\n",
       "</div>"
      ],
      "text/plain": [
       "Empty DataFrame\n",
       "Columns: []\n",
       "Index: [2017-01-06 00:00:00, 2017-01-09 00:00:00, 2017-01-10 00:00:00, 2017-01-11 00:00:00, 2017-01-12 00:00:00]"
      ]
     },
     "execution_count": 6,
     "metadata": {},
     "output_type": "execute_result"
    }
   ],
   "source": [
    "for year in trading_years:\n",
    "    holidays = get_trading_close_holidays(year)\n",
    "    df.drop(holidays, errors='ignore', inplace=True)\n",
    "df.head()"
   ]
  },
  {
   "cell_type": "markdown",
   "metadata": {},
   "source": [
    "## VI. Make Calls to the API to Get Close Prices on These Days"
   ]
  },
  {
   "cell_type": "code",
   "execution_count": 7,
   "metadata": {},
   "outputs": [
    ]
    }
   ],
   "source": [
    "close_price_list = []\n",
    "no_data_days = []\n",
    "for day in df.index:\n",
    "    try:\n",
    "        close_price_list.append(client.stocks_equities_daily_open_close(security, day.date().isoformat()).close)\n",
    "    except requests.HTTPError as exception:\n",
    "        print(exception)\n",
    "        no_data_days.append(day)\n",
    "    finally:\n",
    "        continue\n",
    "df.drop(no_data_days, inplace=True)\n",
    "df['Close Price'] = close_price_list"
   ]
  },
  {
   "cell_type": "code",
   "execution_count": 8,
   "metadata": {},
   "outputs": [
    {
     "data": {
      "text/html": [
       "<div>\n",
       "<style scoped>\n",
       "    .dataframe tbody tr th:only-of-type {\n",
       "        vertical-align: middle;\n",
       "    }\n",
       "\n",
       "    .dataframe tbody tr th {\n",
       "        vertical-align: top;\n",
       "    }\n",
       "\n",
       "    .dataframe thead th {\n",
       "        text-align: right;\n",
       "    }\n",
       "</style>\n",
       "<table border=\"1\" class=\"dataframe\">\n",
       "  <thead>\n",
       "    <tr style=\"text-align: right;\">\n",
       "      <th></th>\n",
       "      <th>Close Price</th>\n",
       "    </tr>\n",
       "  </thead>\n",
       "  <tbody>\n",
       "    <tr>\n",
       "      <th>2017-01-06</th>\n",
       "      <td>138.30</td>\n",
       "    </tr>\n",
       "    <tr>\n",
       "      <th>2017-01-09</th>\n",
       "      <td>139.70</td>\n",
       "    </tr>\n",
       "    <tr>\n",
       "      <th>2017-01-10</th>\n",
       "      <td>140.50</td>\n",
       "    </tr>\n",
       "    <tr>\n",
       "      <th>2017-01-11</th>\n",
       "      <td>141.58</td>\n",
       "    </tr>\n",
       "    <tr>\n",
       "      <th>2017-01-12</th>\n",
       "      <td>70.43</td>\n",
       "    </tr>\n",
       "  </tbody>\n",
       "</table>\n",
       "</div>"
      ],
      "text/plain": [
       "            Close Price\n",
       "2017-01-06       138.30\n",
       "2017-01-09       139.70\n",
       "2017-01-10       140.50\n",
       "2017-01-11       141.58\n",
       "2017-01-12        70.43"
      ]
     },
     "execution_count": 8,
     "metadata": {},
     "output_type": "execute_result"
    }
   ],
   "source": [
    "df.head()"
   ]
  },
  {
   "cell_type": "code",
   "execution_count": 9,
   "metadata": {},
   "outputs": [
    {
     "data": {
      "text/html": [
       "<div>\n",
       "<style scoped>\n",
       "    .dataframe tbody tr th:only-of-type {\n",
       "        vertical-align: middle;\n",
       "    }\n",
       "\n",
       "    .dataframe tbody tr th {\n",
       "        vertical-align: top;\n",
       "    }\n",
       "\n",
       "    .dataframe thead th {\n",
       "        text-align: right;\n",
       "    }\n",
       "</style>\n",
       "<table border=\"1\" class=\"dataframe\">\n",
       "  <thead>\n",
       "    <tr style=\"text-align: right;\">\n",
       "      <th></th>\n",
       "      <th>Close Price</th>\n",
       "    </tr>\n",
       "  </thead>\n",
       "  <tbody>\n",
       "    <tr>\n",
       "      <th>2020-06-12</th>\n",
       "      <td>84.80</td>\n",
       "    </tr>\n",
       "    <tr>\n",
       "      <th>2020-06-15</th>\n",
       "      <td>87.79</td>\n",
       "    </tr>\n",
       "    <tr>\n",
       "      <th>2020-06-16</th>\n",
       "      <td>92.43</td>\n",
       "    </tr>\n",
       "    <tr>\n",
       "      <th>2020-06-17</th>\n",
       "      <td>93.33</td>\n",
       "    </tr>\n",
       "    <tr>\n",
       "      <th>2020-06-18</th>\n",
       "      <td>94.05</td>\n",
       "    </tr>\n",
       "  </tbody>\n",
       "</table>\n",
       "</div>"
      ],
      "text/plain": [
       "            Close Price\n",
       "2020-06-12        84.80\n",
       "2020-06-15        87.79\n",
       "2020-06-16        92.43\n",
       "2020-06-17        93.33\n",
       "2020-06-18        94.05"
      ]
     },
     "execution_count": 9,
     "metadata": {},
     "output_type": "execute_result"
    }
   ],
   "source": [
    "df.tail()"
   ]
  },
  {
   "cell_type": "markdown",
   "metadata": {},
   "source": [
    "# C. Analysis"
   ]
  },
  {
   "cell_type": "markdown",
   "metadata": {},
   "source": [
    "## I. Plot Data"
   ]
  },
  {
   "cell_type": "code",
   "execution_count": 10,
   "metadata": {},
   "outputs": [
    {
     "data": {
      "image/png": "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\n",
      "text/plain": [
       "<Figure size 432x288 with 1 Axes>"
      ]
     },
     "metadata": {
      "needs_background": "light"
     },
     "output_type": "display_data"
    }
   ],
   "source": [
    "df.plot(kind='line',color='red')\n",
    "plt.title('Closing Price vs Time for ' + str(security))\n",
    "plt.show()"
   ]
  },
  {
   "cell_type": "markdown",
   "metadata": {},
   "source": [
    "## II. Set Minimum Sample Size for all Holding Periods"
   ]
  },
  {
   "cell_type": "code",
   "execution_count": 11,
   "metadata": {},
   "outputs": [],
   "source": [
    "total_days = df.size\n",
    "min_sample_size = 100 #minimum number of holding periods to look at each iteration\n",
    "max_num_days_in_curr_holding_period = total_days-min_sample_size+1\n",
    "num_days_in_curr_holding_period = 2"
   ]
  },
  {
   "cell_type": "code",
   "execution_count": 12,
   "metadata": {},
   "outputs": [],
   "source": [
    "#days_offset = total_days%num_days_in_curr_holding_period#calculate number of days by which to offset the first holding period from the start of the data\n",
    "#indices = list(map(add, first_indices_to_get, len(indices_to_get) * [holding_period * num_days_in_curr_holding_period]))"
   ]
  },
  {
   "cell_type": "markdown",
   "metadata": {},
   "source": [
    "## III. Obtain Price Data, Compute Returns, Expected Return, Standard Deviation of Returns for all Holding Periods"
   ]
  },
  {
   "cell_type": "markdown",
   "metadata": {},
   "source": [
    "### (Use unsorted dictionaries for faster computation)"
   ]
  },
  {
   "cell_type": "code",
   "execution_count": 13,
   "metadata": {},
   "outputs": [],
   "source": [
    "returns_dic = {}\n",
    "standard_deviations_dic = {}\n",
    "return_expectations_dic = {}\n",
    "while num_days_in_curr_holding_period <= max_num_days_in_curr_holding_period:\n",
    "    num_holding_periods = total_days-num_days_in_curr_holding_period + 1#number of holding periods of n days in data set\n",
    "    indices = list(range(num_days_in_curr_holding_period))#initialize indices to first n days\n",
    "    returns = []\n",
    "    for holding_period in range(num_holding_periods):\n",
    "        close_price_data = df.iloc[indices]\n",
    "        returns.append((close_price_data.iloc[close_price_data.size-1].at['Close Price']/close_price_data.iloc[0].at['Close Price']) - 1)\n",
    "        indices = list(map(add, indices, len(indices) * [1]))#add one to each index (list version of index+=1)\n",
    "    returns_dic[num_days_in_curr_holding_period] = returns\n",
    "    return_expectations_dic[num_days_in_curr_holding_period] = np.mean(returns)\n",
    "    standard_deviations_dic[num_days_in_curr_holding_period] = np.std(returns, ddof=1)#sample standard deviation\n",
    "    num_days_in_curr_holding_period += 1"
   ]
  },
  {
   "cell_type": "markdown",
   "metadata": {},
   "source": [
    "## IV. Sort Unsorted Dictionaries with Data for Plotting"
   ]
  },
  {
   "cell_type": "code",
   "execution_count": 14,
   "metadata": {},
   "outputs": [],
   "source": [
    "returns_sorted = sorted(returns_dic.items()) # sorted by key, return a list of tuples\n",
    "num_days_held, returns = zip(*returns_sorted) # unpack a list of pairs into two tuples\n",
    "\n",
    "return_expectations = sorted(return_expectations_dic.items()) # sorted by key, return a list of tuples\n",
    "num_days_held, return_expectations = zip(*return_expectations) # unpack a list of pairs into two tuples\n",
    "\n",
    "standard_deviations = sorted(standard_deviations_dic.items()) # sorted by key, return a list of tuples\n",
    "num_days_held, standard_deviations = zip(*standard_deviations) # unpack a list of pairs into two tuples"
   ]
  },
  {
   "cell_type": "markdown",
   "metadata": {},
   "source": [
    "## V. Plot Data"
   ]
  },
  {
   "cell_type": "code",
   "execution_count": 15,
   "metadata": {},
   "outputs": [
    {
     "data": {
      "image/png": "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\n",
      "text/plain": [
       "<Figure size 432x288 with 1 Axes>"
      ]
     },
     "metadata": {
      "needs_background": "light"
     },
     "output_type": "display_data"
    }
   ],
   "source": [
    "plt.plot(num_days_held, return_expectations)\n",
    "plt.title('Expectation of Return VS Holding Period for ' + str(security))\n",
    "plt.show()"
   ]
  },
  {
   "cell_type": "code",
   "execution_count": 16,
   "metadata": {},
   "outputs": [
    {
     "data": {
      "image/png": "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\n",
      "text/plain": [
       "<Figure size 432x288 with 1 Axes>"
      ]
     },
     "metadata": {
      "needs_background": "light"
     },
     "output_type": "display_data"
    }
   ],
   "source": [
    "plt.plot(num_days_held, standard_deviations)\n",
    "plt.title('Sample Standard Deviation of Returns VS Holding Period for ' + str(security))\n",
    "plt.show()"
   ]
  },
  {
   "cell_type": "code",
   "execution_count": 17,
   "metadata": {},
   "outputs": [
    {
     "data": {
      "image/png": "iVBORw0KGgoAAAANSUhEUgAAAXcAAAEICAYAAACktLTqAAAABHNCSVQICAgIfAhkiAAAAAlwSFlzAAALEgAACxIB0t1+/AAAADh0RVh0U29mdHdhcmUAbWF0cGxvdGxpYiB2ZXJzaW9uMy4yLjEsIGh0dHA6Ly9tYXRwbG90bGliLm9yZy+j8jraAAAbIUlEQVR4nO3dfbhcZX3u8e9NwpvECCEvBhJMlIgmbQGbRgSqCBwJr6HnlDYoECwaqaDg5Tk06KlibSjtObXa02KbAhoLEnMhSAq2NY2iokAIFcEQYoK8ZJNANi8BAhpM+J0/nmeXlcnMntl7z+ydPNyf69rXzFrrmbV+a82ae615Zs1sRQRmZlaW3Ya6ADMzaz+Hu5lZgRzuZmYFcribmRXI4W5mViCHu5lZgYoKd0krJR0z1HUMJUm/J2mdpM2SDh/qegabpJB0cINp50q6vTK8WdKbB6+6vpP0AUnf6edjL5N0bbtr2tm81vf5RnaZcJf0iKTja8Zt92KNiGkRcVuT+UzKATC8Q6UOtf8LXBgRIyLiJ9UJksZKul7SeknPSfqRpHf2NrO8rV7ML5ynJS2T9IedKFzSMZK66oy/TdKH2r28vI1+0e755lD9dd5mmyT9WNK7+lnjdRHxvg7UeIykV3KNL0haLemDLT52Z3sNNdzn+yqfIG7Of9sk/aoy/KncZoKk6/Lr4UVJyyWdVDMfSfpfktZI+qWkxyRdLmmPmnZHSvpufg6ek7RE0tsGsg49dplw31XsBDv8m4CVDaaNAO4GfhsYBSwEbpU0osk8D42IEcAhwFeBv5P02faUW6xv5G02BrgduFGS+jKDQdiX1ucaRwKfAP5J0iEdXmZP8LUze3rb55vVMqw6nE8QR+Tt8kNePWiMiIjLJY0iPZ8vA9OA0cDfAIsknV6Z1d8Cc4FzgNcDJwLHA4sqy34X8B3gZuAAYDJwH/AjSZP6sz7biYhd4g94BDi+Zty5wO312gAzgBXA88CTwBfy+MeAADbnv3eRDnL/G3gU2Ah8DXhDZb7n5GlPA39as5zLgBuAa/OyPpSXfQewCdgA/B2wR2V+AXwUWAO8AHweeEt+zPPA4mr7mnWuWyuwZ16fAF4EHmpxuz4P/HYv0wM4uGbc7wO/AvbPwx8EVuV1+QXwkUrbnwGnVoZ3B54CDquzrGOArjrjbwM+VBn+MLAWeAZYAhxQr15g/zz9eWB53s63N2j7VeDvgVvzetwFvKXS9n3AauA54Erg+9Waauq9DLi2MjwtL2t0fq6uzvvF48CfA8Mq+/OPSGHxTJ52bk3NR5IO0M/l2yMr0ybnul4Alub97toGNe6wrfP+dEZlP5sHPETa7xcDo3p5DdWu86TcZnjlOZyf1++XwMF5+vmk18Gzefsrtz84r8tzeX/5Rp11qLvPA2/Py9tECv3TKo/5KvBl4Nv5McfX2z719rs87vOkfXq3mvF/Qtr3BUwBtgEzatpMBLYA78nDPwSurLPcfwW+MpC8jIiiw/0O4Ox8fwRwRL2dLo/7I1JYvDm3vRH45zxtat6Bjgb2IL0F/DXbh/uvgdPzC2Jv0pnxEcDwvLxVwMWV5QUpdEaSXvhbgGV5+W8AHgDmNNgODWutzPvgFrfpYaSQfkMvbeqF++7AVuDEPHwy6eAk4D3AS8A78rRLqLwwgVnA/Q2WdQxNwh04lvRifwfpxf3/gB/Uq5d0lrQY2Af4DVKY9hbuz5AOzMOB64BFedpo0gHiv+dpF+XnvGm45xr/D7AuD38L+Mdc01jSQecjlf15K/CxvJy9qezjpHdbzwJn5+ln5uGeg+wdwBfyMt9NCvmm4U7ab08DXgEOz+MuBu4EJuT5/SNwfS+voctoHu6Pkfb34aR9KIBbgH2Bg4BuYGZufz3w6VzbXsDRreyjeb5rgU+RXq/H5u1wSOV5fg44qmfevcz3ttrnOG+Tz9VpOznXMYV0wHq0wTy/TzrIvY50AHhvnTYfBB7vT05uN5+BzmCw/kjBvZl0NO75e4nG4f4D4HPA6Jr51NsxlwEfrQwfQnrxDgc+07NT52mvI70lq4b7D5rUfjFwU83OeFRl+B7gTyrDfw18scG8GtZau6M3qWkkcD9waZN2decHPAF8oMFjvgVclO8fkF9cI/PwDcAlDR53DClgNtX8beXVcL8a+KvKY0bk9Z9UrRcYlse/rdL2cnoP96sq004CHsz3zwHuqEwTsI7ew/3lXPtG4LukA/440oF870rbM4Hv5fvnAo/VzOtcXg33s4HlNdPvyG0Oyttpn8q0r9N7uPds6y2koKmegKwCjqsMj+fV18Qk+hfuf1Zn3zq6MrwYmJfvfw1YAExoYV+uPo+/S9o3d6tMvx64rPI8f63ZPCs114b7WuD8Om33ynUcSXpnfWeDeS7qWa/c/m112swEXm6lxt7+drU+99MjYt+eP1LXRiPnAW8FHpR0t6RTeml7AKmbo8ejpJ14XJ62rmdCRLxEeptata46IOmtkm6R9ISk50mhMrrmMU9W7v+yznCjfvDeam2JpL2BfyHtgH9RGV/9MOl3e3n87qS+5Gfy8ImS7pT0jKRNpGAcDRAR60lvxf+HpH1JfY/X9VLe+upznJ/n2yvTt1v/iNhMej4OrJnPGNJ2qT43j9K7Jyr3X+LV56B2Hwhghw9+ayzO9Y+NiGMj4h5S3/DuwIb8Qesm0hnx2Mrj1tWbWaWO2nV4lLTuBwDPRsSLNdN6sz5v35GkPuJjK9PeBNxUqXMV6QDQ8n5WR711a7TNLyEdRJfn/fKPWlzGAaR3Sa9UxvVso97qaNVTpANdrZ5x3b206WnXTXrH9Uov8+oeQI1AwR+oRsSaiDiT9ML5S+AGSfuQjpa11pN25h49Z0FPkvpGJ/RMyMG4f+3iaoa/DDwITImIkaS3iH36MK0XvdXalKQ9SWfWjwMfqU6LyodJEfHDXmYzKy9zeZ7fN0ndVeNyWHyb7dd3IXAWcAbpDPjxVmptYLv1z8/p/nl9qrpzjRMr4w7q5zJr9wFVh/tgHekseXTl4DUyIqZV2tTbP3vUPveQ1unxXON+eXtUpzUVEVtIfca/WflQcB2p2616oN0rP3f1anyR9K62xxvrLaqVenJNT0TEhyPiANJ+eqUaXOJaYz0wseYD255t1Oc66vgP0olKbXb+AemA/xDpndpESTOqDSRNJHXXfj8fhO8gvSZq/QGp+2ZAig13SWdJGpOP4Jvy6G2kF/0rpD7rHtcDn5A0OV85cjmpn3grqRvh1HzJ0h6krp5mQf16Uh/t5nxZ0x+3bcV6r7VX+Yz7BtI7g3Nqzm6akjRK0gdIH3z9ZUQ8TerX3JMcppJOJH34WPUtUh/5RaS32wPxdeCDkg7LB5bLgbsi4pFqo4jYRvo84jJJr5M0FZjTz2XeSg6+fAXLBdQPr15FxAbS1RF/LWmkpN0kvUXSe1qcxbeBt0p6v6ThSpekTgVuiYhHSRcQfE7SHpKOBk7tQ20vk7oDP5NH/QMwX9KbACSNkTQrT6v3GroXeLekgyS9Abi01WXXI+kMST0H0GdJgbythYfeRTrQXCJpd6XvvZxK5SqVAfob0judqyW9UdJeks4kXWjx2Yh4JSJ+Ttp+10k6QtIwSdNIJ0E/Jh0gIH1gPUfSxyW9XtJ+kv6c9HnJX+yw5D4qNtxJ/VYrJW0GvgTMjohf5W6V+aTLjTZJOgK4BvhnUj/9w6QPGT8GEBEr8/1FpLOjF0j9qFt6Wfb/BN6f2/4T8I02rlfDWltwJHAKKXw3tdIFk/00b8e1pKuBPhERnwGIiBeAj5P6S58lrfeS6oMj4pekHXsyKXD7LSKWkV5I3yQ9H28BZjdofiHpbf4TpL7Wr/RzmU+RzrD+itQFNJUUpL3tA42cQzogPkDaXjfQ+C18bR1Pk56/T+Y6LgFOyfVB2vbvJHWXfZa+H0ivAQ6SdCrpNbME+I6kF0gfJL4z17HDaygilpL28/tInyHd0sdl1/od4K683y0hfYbzcLMH5YPUaaTuv6dIVzadExEPDrCenvk/Tbq4Yi/Sc7iZtJ0viIhrKk0vBK4iXUX3EukKm0dJXcuv5HndDpxA+qB+A+l5mwMcGxH3D7TWnsuOrEX5bHkTqcul6c5miaTPAG+NiLOGupaBym/Ju0gfKH9vqOuxoSNpJOkzpZt6TngatPsz0hV1746ITQ3aHErq0nl/RPz7QGsr+cy9bSSdmt/a70PqW76fdGWOtSB/8eM80lUCuyRJJ0jaN3cF9XyGcucQl2VDLCKeJ11AsE1Sw666HPwLSH3ujdr8lHQA+M12fIHNZ+4tkHQV6Ys7Ir0d/2hErB7aqnYNkj4MfJF0Lf75Q11Pf0m6jNT91dOl8vGIuGtIizLrhcPdzKxA7pYxMyvQUP/IFQCjR4+OSZMmDXUZZma7lHvuueepiBhTb9pOEe6TJk1ixYoVQ12GmdkuRVLDbyG7W8bMrEAOdzOzAjnczcwK5HA3MyuQw93MrEAOdzOzAjnczcwK5HA3MyuQw93MrEA7xTdUzWznMmnerf1+7CNXnNzGSqy/fOZuZlYgh7uZWYEc7mZmBXK4m5kVyOFuZlYgh7uZWYEc7mZmBXK4m5kVyOFuZlYgh7uZWYEc7mZmBXK4m5kVyOFuZlYgh7uZWYEc7mZmBWop3CU9Iul+SfdKWpHHjZK0VNKafLtfpf2lktZKWi3phE4Vb2Zm9fXlzP29EXFYREzPw/OAZRExBViWh5E0FZgNTANmAldKGtbGms3MrImBdMvMAhbm+wuB0yvjF0XEloh4GFgLzBjAcszMrI9aDfcAviPpHklz87hxEbEBIN+OzeMPBNZVHtuVx21H0lxJKySt6O7u7l/1ZmZWV6v/Q/WoiFgvaSywVNKDvbRVnXGxw4iIBcACgOnTp+8w3czM+q+lM/eIWJ9vNwI3kbpZnpQ0HiDfbszNu4CJlYdPANa3q2AzM2uuabhL2kfS63vuA+8DfgYsAebkZnOAm/P9JcBsSXtKmgxMAZa3u3AzM2uslW6ZccBNknrafz0i/k3S3cBiSecBjwFnAETESkmLgQeArcAFEbGtI9WbmVldTcM9In4BHFpn/NPAcQ0eMx+YP+DqzMysX/wNVTOzAjnczcwK5HA3MyuQw93MrEAOdzOzAjnczcwK5HA3MyuQw93MrEAOdzOzAjnczcwK5HA3MyuQw93MrEAOdzOzAjnczcwK5HA3MyuQw93MrEAOdzOzAjnczcwK5HA3MyuQw93MrEAOdzOzAjnczcwK5HA3MyuQw93MrEAOdzOzAjnczcwK5HA3MyuQw93MrEAOdzOzArUc7pKGSfqJpFvy8ChJSyWtybf7VdpeKmmtpNWSTuhE4WZm1lhfztwvAlZVhucByyJiCrAsDyNpKjAbmAbMBK6UNKw95ZqZWStaCndJE4CTgasqo2cBC/P9hcDplfGLImJLRDwMrAVmtKdcMzNrRatn7l8ELgFeqYwbFxEbAPLt2Dz+QGBdpV1XHrcdSXMlrZC0oru7u8+Fm5lZY03DXdIpwMaIuKfFearOuNhhRMSCiJgeEdPHjBnT4qzNzKwVw1tocxRwmqSTgL2AkZKuBZ6UND4iNkgaD2zM7buAiZXHTwDWt7NoMzPrXdMz94i4NCImRMQk0gel342Is4AlwJzcbA5wc76/BJgtaU9Jk4EpwPK2V25mZg21cubeyBXAYknnAY8BZwBExEpJi4EHgK3ABRGxbcCVmplZy/oU7hFxG3Bbvv80cFyDdvOB+QOszczM+snfUDUzK5DD3cysQA53M7MCOdzNzArkcDczK5DD3cysQA53M7MCOdzNzArkcDczK5DD3cysQA53M7MCOdzNzArkcDczK5DD3cysQA53M7MCOdzNzArkcDczK5DD3cysQA53M7MCOdzNzArkcDczK5DD3cysQA53M7MCOdzNzArkcDczK5DD3cysQA53M7MCOdzNzArUNNwl7SVpuaSfSlop6XN5/ChJSyWtybf7VR5zqaS1klZLOqGTK2BmZjtq5cx9C3BsRBwKHAbMlHQEMA9YFhFTgGV5GElTgdnANGAmcKWkYZ0o3szM6msa7pFszoO7578AZgEL8/iFwOn5/ixgUURsiYiHgbXAjLZWbWZmvWqpz13SMEn3AhuBpRFxFzAuIjYA5NuxufmBwLrKw7vyuNp5zpW0QtKK7u7ugayDmZnVaCncI2JbRBwGTABmSPqNXpqr3izqzHNBREyPiOljxoxprVozM2tJn66WiYhNwG2kvvQnJY0HyLcbc7MuYGLlYROA9QOu1MzMWtbK1TJjJO2b7+8NHA88CCwB5uRmc4Cb8/0lwGxJe0qaDEwBlre7cDMza2x4C23GAwvzFS+7AYsj4hZJdwCLJZ0HPAacARARKyUtBh4AtgIXRMS2zpRvZmb1NA33iLgPOLzO+KeB4xo8Zj4wf8DVmZlZv/gbqmZmBXK4m5kVyOFuZlYgh7uZWYEc7mZmBXK4m5kVyOFuZlYgh7uZWYEc7mZmBXK4m5kVyOFuZlYgh7uZWYEc7mZmBXK4m5kVyOFuZlYgh7uZWYEc7mZmBXK4m5kVyOFuZlYgh7uZWYEc7mZmBXK4m5kVyOFuZlYgh7uZWYEc7mZmBXK4m5kVyOFuZlYgh7uZWYEc7mZmBWoa7pImSvqepFWSVkq6KI8fJWmppDX5dr/KYy6VtFbSakkndHIFzMxsR62cuW8FPhkRbweOAC6QNBWYByyLiCnAsjxMnjYbmAbMBK6UNKwTxZuZWX1Nwz0iNkTEf+b7LwCrgAOBWcDC3GwhcHq+PwtYFBFbIuJhYC0wo92Fm5lZY33qc5c0CTgcuAsYFxEbIB0AgLG52YHAusrDuvK42nnNlbRC0oru7u6+V25mZg21HO6SRgDfBC6OiOd7a1pnXOwwImJBREyPiOljxoxptQwzM2tBS+EuaXdSsF8XETfm0U9KGp+njwc25vFdwMTKwycA69tTrpmZtaKVq2UEXA2siogvVCYtAebk+3OAmyvjZ0vaU9JkYAqwvH0lm5lZM8NbaHMUcDZwv6R787hPAVcAiyWdBzwGnAEQESslLQYeIF1pc0FEbGt75WZm1lDTcI+I26nfjw5wXIPHzAfmD6AuMzMbAH9D1cysQA53M7MCOdzNzArkcDczK5DD3cysQA53M7MCOdzNzArkcDczK5DD3cysQK38/ICZ7WImzbt1qEuwIeYzdzOzAjnczcwK5HA3MyuQw93MrEAOdzOzAjnczcwK5HA3MyuQw93MrEAOdzOzAjnczcwK5HA3MyuQw93MrEAOdzOzAjnczcwK5HA3MyuQw93MrEAOdzOzAjnczcwK1DTcJV0jaaOkn1XGjZK0VNKafLtfZdqlktZKWi3phE4VbmZmjbVy5v5VYGbNuHnAsoiYAizLw0iaCswGpuXHXClpWNuqNTOzljQN94j4AfBMzehZwMJ8fyFwemX8oojYEhEPA2uBGW2q1czMWtTfPvdxEbEBIN+OzeMPBNZV2nXlcTuQNFfSCkkruru7+1mGmZnV0+4PVFVnXNRrGBELImJ6REwfM2ZMm8swM3tt62+4PylpPEC+3ZjHdwETK+0mAOv7X56ZmfVHf8N9CTAn358D3FwZP1vSnpImA1OA5QMr0czM+mp4swaSrgeOAUZL6gI+C1wBLJZ0HvAYcAZARKyUtBh4ANgKXBAR2zpUu5mZNdA03CPizAaTjmvQfj4wfyBFmZnZwPgbqmZmBXK4m5kVqGm3jJlZX0yad2u/H/vIFSe3sZLXNp+5m5kVyOFuZlYgh7uZWYEc7mZmBXK4m5kVyOFuZlYgh7uZWYEc7mZmBXK4m5kVyOFuZlYgh7uZWYEc7mZmBXK4m5kVyOFuZlYgh7uZWYH8e+5mO6mB/C66mc/czcwK5HA3MyuQw93MrEAOdzOzAjnczcwK5HA3MyuQw93MrEAOdzOzAvlLTGYd5C8i9c1AttcjV5zcxkp2fT5zNzMrUMfCXdJMSaslrZU0r1PLMTOzHXWkW0bSMODvgf8GdAF3S1oSEQ90YnlmZu7S2V6n+txnAGsj4hcAkhYBs4COhPuu+KTuijXD0NU9lH3XJb7wbXsl7l+KiPbPVPp9YGZEfCgPnw28MyIurLSZC8zNg4cAq9teyMCMBp4a6iKGmLeBtwF4G8DOuw3eFBFj6k3o1Jm76ozb7igSEQuABR1a/oBJWhER04e6jqHkbeBtAN4GsGtug059oNoFTKwMTwDWd2hZZmZWo1PhfjcwRdJkSXsAs4ElHVqWmZnV6Ei3TERslXQh8O/AMOCaiFjZiWV10E7bZTSIvA28DcDbAHbBbdCRD1TNzGxo+RuqZmYFcribmRXI4Z5JGiVpqaQ1+Xa/Bu32lXSDpAclrZL0rsGutVNa3Qa57TBJP5F0y2DW2GmtbANJEyV9Lz//KyVdNBS1tluznwxR8rd5+n2S3jEUdXZSC9vgA3nd75P0Y0mHDkWdrXC4v2oesCwipgDL8nA9XwL+LSLeBhwKrBqk+gZDq9sA4CLKWvcerWyDrcAnI+LtwBHABZKmDmKNbVf5yZATganAmXXW6URgSv6bC3x5UIvssBa3wcPAeyLit4DPsxN/0Opwf9UsYGG+vxA4vbaBpJHAu4GrASLi5YjYNGgVdl7TbQAgaQJwMnDVINU1mJpug4jYEBH/me+/QDrIHThoFXbGf/1kSES8DPT8ZEjVLOBrkdwJ7Ctp/GAX2kFNt0FE/Dgins2Dd5K+w7NTcri/alxEbID04gXG1mnzZqAb+ErukrhK0j6DWWSHtbINAL4IXAK8MliFDaJWtwEAkiYBhwN3dbyyzjoQWFcZ7mLHA1YrbXZlfV2/84B/7WhFA/Ca+mcdkv4DeGOdSZ9ucRbDgXcAH4uIuyR9ifS2/U/bVGLHDXQbSDoF2BgR90g6pp21DZY27Ac98xkBfBO4OCKeb0dtQ6jpT4a02GZX1vL6SXovKdyP7mhFA/CaCveIOL7RNElPShofERvyW82NdZp1AV0R0XOWdgO990vvdNqwDY4CTpN0ErAXMFLStRFxVodKbrs2bAMk7U4K9usi4sYOlTqYWvnJkNJ/VqSl9ZP0W6QuyRMj4ulBqq3P3C3zqiXAnHx/DnBzbYOIeAJYJ+mQPOo4OvQzxkOklW1waURMiIhJpJ+V+O6uFOwtaLoNJIn0ucuqiPjCINbWSa38ZMgS4Jx81cwRwHM9XViFaLoNJB0E3AicHRE/H4IaWxcR/kvf0t2fdHXEmnw7Ko8/APh2pd1hwArgPuBbwH5DXftgb4NK+2OAW4a67sHeBqS34pH3gXvz30lDXXsb1v0k4OfAQ8Cn87jzgfPzfZGuJnkIuB+YPtQ1D8E2uAp4tvK8rxjqmhv9+ecHzMwK5G4ZM7MCOdzNzArkcDczK5DD3cysQA53M7MCOdzNzArkcDczK9D/B8r+N/NxzgLNAAAAAElFTkSuQmCC\n",
      "text/plain": [
       "<Figure size 432x288 with 1 Axes>"
      ]
     },
     "metadata": {
      "needs_background": "light"
     },
     "output_type": "display_data"
    }
   ],
   "source": [
    "plt.hist(returns_dic[2], bins = 20)\n",
    "plt.title ('Histogram of 2-Day Holding Period Returns for ' + str(security))\n",
    "plt.show()"
   ]
  },
  {
   "cell_type": "code",
   "execution_count": 21,
   "metadata": {},
   "outputs": [
    {
     "data": {
      "image/png": "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\n",
      "text/plain": [
       "<Figure size 432x288 with 1 Axes>"
      ]
     },
     "metadata": {
      "needs_background": "light"
     },
     "output_type": "display_data"
    }
   ],
   "source": [
    "plt.hist(returns_dic[total_days//2], bins = 20)\n",
    "plt.title('Histogram of ' + str(total_days//2) +\\\n",
    "         '-Day Holding Period Returns for ' + str(security))\n",
    "plt.show()"
   ]
  },
  {
   "cell_type": "code",
   "execution_count": 22,
   "metadata": {},
   "outputs": [
    {
     "data": {
      "image/png": "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\n",
      "text/plain": [
       "<Figure size 432x288 with 1 Axes>"
      ]
     },
     "metadata": {
      "needs_background": "light"
     },
     "output_type": "display_data"
    }
   ],
   "source": [
    "plt.hist(returns_dic[700], bins = 20)\n",
    "plt.title('Histogram 700-day Holding Period Returns for ' + str(security))\n",
    "plt.show()"
   ]
  },
  {
   "cell_type": "code",
   "execution_count": null,
   "metadata": {},
   "outputs": [],
   "source": []
  }
 ],
 "metadata": {
  "kernelspec": {
   "display_name": "Python 3.5 (Prototyping_Env)",
   "language": "python",
   "name": "financial_prototyping_env"
  },
  "language_info": {
   "codemirror_mode": {
    "name": "ipython",
    "version": 3
   },
   "file_extension": ".py",
   "mimetype": "text/x-python",
   "name": "python",
   "nbconvert_exporter": "python",
   "pygments_lexer": "ipython3",
   "version": "3.8.3"
  }
 },
 "nbformat": 4,
 "nbformat_minor": 4
}
